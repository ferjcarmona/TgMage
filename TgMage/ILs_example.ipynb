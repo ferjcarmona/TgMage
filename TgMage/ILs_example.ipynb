{
 "cells": [
  {
   "cell_type": "code",
   "execution_count": null,
   "id": "5e14efd5-98f7-4965-b11f-438246c9798f",
   "metadata": {},
   "outputs": [],
   "source": [
    "# Add imports here\n",
    "from tgmage import *\n",
    "\n",
    "# Edit the font, font size, and axes width\n",
    "plt.rcParams['font.size'] = 10\n",
    "plt.rcParams['axes.linewidth'] = 1"
   ]
  },
  {
   "cell_type": "markdown",
   "id": "dc24a23c-1860-408b-a342-b2b36ae7a71e",
   "metadata": {},
   "source": [
    "Parameters of analysis"
   ]
  },
  {
   "cell_type": "code",
   "execution_count": null,
   "id": "f90f0c6b-4e9d-4bb3-a594-6ce6e7771f85",
   "metadata": {
    "tags": []
   },
   "outputs": [],
   "source": [
    "# Paremeters\n",
    "MY_ILs = ['Bmim_NTf2', 'Bmim_TFO', 'Emim_NTf2', 'Emim_Cl', 'Emim_PF6', 'Emim_BF4']\n",
    "K_ILs = ['K_Bmim_NTf2', 'K_Bmim_TFO', 'Bmim_OTS', 'Bpyri_NTf2', 'bmPyrr_NTf2', 'K_Emim_NTf2', 'K_Emim_PF6', 'K_Emim_BF4', 'Emim_Br', 'Emim_MESO4']\n",
    "Tg = {}\n",
    "methods = [\"density\"]\n",
    "warmups = [30, 0]"
   ]
  },
  {
   "cell_type": "markdown",
   "id": "aaa808b3-a44e-4464-a0c5-c77c542b90e3",
   "metadata": {},
   "source": [
    "Analysis of My simulated systems"
   ]
  },
  {
   "cell_type": "code",
   "execution_count": null,
   "id": "0d6d2fe1-0695-499b-806b-5c20f22da2e6",
   "metadata": {
    "tags": []
   },
   "outputs": [],
   "source": [
    "# Load and compute Tg\n",
    "for il, IL in enumerate(MY_ILs):\n",
    "    Tg[IL] = {}\n",
    "    path = f\"../../../../../ILs/{IL}/0.0000_V-A/Ramping/replicate_1\"\n",
    "    # print(path)\n",
    "\n",
    "    # Load Data \n",
    "    density, header_list = thermo_extractor(f\"{path}/5K-ns_thermo.txt\", wanted_property=\"Density\")\n",
    "    \n",
    "    # Temperature Ramp\n",
    "    T_start = 300\n",
    "    T_low = 150\n",
    "    thermostat = np.linspace(T_start, T_low, num=len(density[1]))\n",
    "\n",
    "    # Construct Density temperature data \n",
    "    density[0] = thermostat  \n",
    "    \n",
    "    # Flip \n",
    "    density = np.flip(density, axis=1)\n",
    "        \n",
    "    # Compute Tg with new method V2 \n",
    "    for warmup in warmups:\n",
    "        Tg[IL][warmup] = Tg_finder(density, IL, warmup=warmup, save=IL)\n",
    "        \n",
    "    # Save everytime\n",
    "    f = open(\"Tg.pkl\",\"wb\")          \n",
    "    pickle.dump(Tg,f) # write the python object (dict) to pickle file\n",
    "    f.close() # close file"
   ]
  },
  {
   "cell_type": "code",
   "execution_count": null,
   "id": "9dae288a-9744-4fce-baa7-6c997cba92fe",
   "metadata": {
    "tags": []
   },
   "outputs": [],
   "source": [
    "Tg"
   ]
  }
 ],
 "metadata": {
  "kernelspec": {
   "display_name": "Python 3 (ipykernel)",
   "language": "python",
   "name": "python3"
  },
  "language_info": {
   "codemirror_mode": {
    "name": "ipython",
    "version": 3
   },
   "file_extension": ".py",
   "mimetype": "text/x-python",
   "name": "python",
   "nbconvert_exporter": "python",
   "pygments_lexer": "ipython3",
   "version": "3.9.7"
  }
 },
 "nbformat": 4,
 "nbformat_minor": 5
}
